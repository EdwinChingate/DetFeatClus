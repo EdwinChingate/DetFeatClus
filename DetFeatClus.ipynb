{
 "cells": [
  {
   "cell_type": "code",
   "execution_count": 1,
   "id": "02704c40",
   "metadata": {
    "ExecuteTime": {
     "end_time": "2023-08-24T14:15:40.226895Z",
     "start_time": "2023-08-24T14:15:39.045590Z"
    }
   },
   "outputs": [],
   "source": [
    "from pyopenms import *\n",
    "import sys\n",
    "import os\n",
    "home=os.getcwd()\n",
    "sys.path.append(home+'/Functions')\n",
    "from ChargeDataSet import *\n",
    "import matplotlib.pyplot as plt\n",
    "import gc\n",
    "from WalkSpectrum import *\n",
    "from SampleSpectrum import *\n",
    "from RawKernel import *"
   ]
  },
  {
   "cell_type": "code",
   "execution_count": 2,
   "id": "02217eb2",
   "metadata": {
    "ExecuteTime": {
     "end_time": "2023-08-24T14:15:40.240492Z",
     "start_time": "2023-08-24T14:15:40.236221Z"
    }
   },
   "outputs": [],
   "source": [
    "DataSetName='12111.mzML'"
   ]
  },
  {
   "cell_type": "code",
   "execution_count": 3,
   "id": "b9af4d21",
   "metadata": {
    "ExecuteTime": {
     "end_time": "2023-08-24T14:15:43.512679Z",
     "start_time": "2023-08-24T14:15:40.994787Z"
    }
   },
   "outputs": [],
   "source": [
    "DataSet=ChargeDataSet(DataSetName)"
   ]
  },
  {
   "cell_type": "code",
   "execution_count": 4,
   "id": "5459344e",
   "metadata": {
    "ExecuteTime": {
     "end_time": "2023-08-24T14:15:43.837238Z",
     "start_time": "2023-08-24T14:15:43.515582Z"
    }
   },
   "outputs": [
    {
     "name": "stdout",
     "output_type": "stream",
     "text": [
      "(419, 3)\n",
      "(83, 3)\n"
     ]
    }
   ],
   "source": [
    "c=0\n",
    "min_RT=0\n",
    "max_RT=3000\n",
    "firstSpectra=True\n",
    "MSLevel=1\n",
    "minInt=1e6\n",
    "min_mz=250\n",
    "max_mz=300\n",
    "AllSpectrum=WalkSpectrum(DataSet=DataSet,MSLevel=MSLevel,min_RT=min_RT,max_RT=max_RT,minInt=minInt,min_mz=min_mz,max_mz=max_mz)\n",
    "sampleSpectrum=SampleSpectrum(AllSpectrum,fraction=20)\n",
    "print(np.shape(AllSpectrum))\n",
    "print(np.shape(sampleSpectrum))"
   ]
  },
  {
   "cell_type": "code",
   "execution_count": 5,
   "id": "48d61290",
   "metadata": {
    "ExecuteTime": {
     "end_time": "2023-08-24T14:15:45.758970Z",
     "start_time": "2023-08-24T14:15:43.841111Z"
    },
    "scrolled": true
   },
   "outputs": [],
   "source": [
    "from AdjacencyMatGen import *\n",
    "from MaxIntCentroids import *\n",
    "Mat=AdjacencyMatGen(sampleSpectrum,mz_Tol=2e-4,RT_Tol=30)\n",
    "Cent=MaxIntCentroids(Spectrum=sampleSpectrum.copy(),AdjacencyMatrix=Mat.copy(),KernelIDs=[],features=0,FeaturesNumber=1000,MinSignals=3,MinIntKernel=3e6,MaxDeep=4)"
   ]
  },
  {
   "cell_type": "code",
   "execution_count": 6,
   "id": "373340a9",
   "metadata": {
    "ExecuteTime": {
     "end_time": "2023-08-24T14:15:45.772358Z",
     "start_time": "2023-08-24T14:15:45.761017Z"
    }
   },
   "outputs": [
    {
     "data": {
      "text/plain": [
       "9"
      ]
     },
     "execution_count": 6,
     "metadata": {},
     "output_type": "execute_result"
    }
   ],
   "source": [
    "len(Cent)"
   ]
  },
  {
   "cell_type": "code",
   "execution_count": 7,
   "id": "9ee44c11",
   "metadata": {
    "ExecuteTime": {
     "end_time": "2023-08-24T14:15:45.814620Z",
     "start_time": "2023-08-24T14:15:45.775095Z"
    },
    "scrolled": true
   },
   "outputs": [],
   "source": [
    "K=RawKernel(Signals=sampleSpectrum,KernelIDs=Cent,alpha=0.001)"
   ]
  },
  {
   "cell_type": "code",
   "execution_count": 9,
   "id": "ead1a83e",
   "metadata": {
    "ExecuteTime": {
     "end_time": "2023-08-24T14:16:04.365475Z",
     "start_time": "2023-08-24T14:16:03.597639Z"
    }
   },
   "outputs": [
    {
     "data": {
      "text/html": [
       "<table>\n",
       "<thead>\n",
       "<tr><th style=\"text-align: right;\">  </th><th style=\"text-align: right;\">      0</th><th style=\"text-align: right;\">      1</th><th style=\"text-align: right;\">      2</th><th style=\"text-align: right;\">          3</th><th style=\"text-align: right;\">  4</th><th style=\"text-align: right;\">          5</th><th style=\"text-align: right;\">       6</th><th style=\"text-align: right;\">          7</th></tr>\n",
       "</thead>\n",
       "<tbody>\n",
       "<tr><td style=\"text-align: right;\"> 0</td><td style=\"text-align: right;\">142.537</td><td style=\"text-align: right;\">3.01345</td><td style=\"text-align: right;\">268.191</td><td style=\"text-align: right;\">4.39656e-05</td><td style=\"text-align: right;\">  8</td><td style=\"text-align: right;\">8.40611e-05</td><td style=\"text-align: right;\">0.313438</td><td style=\"text-align: right;\">4.83653e+07</td></tr>\n",
       "<tr><td style=\"text-align: right;\"> 1</td><td style=\"text-align: right;\">138.895</td><td style=\"text-align: right;\">1.81007</td><td style=\"text-align: right;\">264.195</td><td style=\"text-align: right;\">7.25499e-05</td><td style=\"text-align: right;\">  5</td><td style=\"text-align: right;\">0.000279364</td><td style=\"text-align: right;\">1.05741 </td><td style=\"text-align: right;\">2.04209e+07</td></tr>\n",
       "<tr><td style=\"text-align: right;\"> 2</td><td style=\"text-align: right;\">203.857</td><td style=\"text-align: right;\">1.44707</td><td style=\"text-align: right;\">259.084</td><td style=\"text-align: right;\">5.1002e-05 </td><td style=\"text-align: right;\">  5</td><td style=\"text-align: right;\">0.00019639 </td><td style=\"text-align: right;\">0.758018</td><td style=\"text-align: right;\">2.64664e+07</td></tr>\n",
       "<tr><td style=\"text-align: right;\"> 3</td><td style=\"text-align: right;\">167.577</td><td style=\"text-align: right;\">3.64448</td><td style=\"text-align: right;\">278.211</td><td style=\"text-align: right;\">5.16749e-05</td><td style=\"text-align: right;\">  8</td><td style=\"text-align: right;\">9.88011e-05</td><td style=\"text-align: right;\">0.35513 </td><td style=\"text-align: right;\">2.84023e+07</td></tr>\n",
       "<tr><td style=\"text-align: right;\"> 4</td><td style=\"text-align: right;\">197.216</td><td style=\"text-align: right;\">1.6596 </td><td style=\"text-align: right;\">284.961</td><td style=\"text-align: right;\">7.64458e-05</td><td style=\"text-align: right;\">  4</td><td style=\"text-align: right;\">0.000493992</td><td style=\"text-align: right;\">1.73354 </td><td style=\"text-align: right;\">1.45973e+07</td></tr>\n",
       "<tr><td style=\"text-align: right;\"> 5</td><td style=\"text-align: right;\">197.436</td><td style=\"text-align: right;\">1.68502</td><td style=\"text-align: right;\">286.958</td><td style=\"text-align: right;\">4.83152e-05</td><td style=\"text-align: right;\">  4</td><td style=\"text-align: right;\">0.000312212</td><td style=\"text-align: right;\">1.08801 </td><td style=\"text-align: right;\">1.43408e+07</td></tr>\n",
       "<tr><td style=\"text-align: right;\"> 6</td><td style=\"text-align: right;\">177.085</td><td style=\"text-align: right;\">1.72731</td><td style=\"text-align: right;\">259.058</td><td style=\"text-align: right;\">6.70136e-05</td><td style=\"text-align: right;\">  4</td><td style=\"text-align: right;\">0.000433041</td><td style=\"text-align: right;\">1.6716  </td><td style=\"text-align: right;\">7.92572e+06</td></tr>\n",
       "<tr><td style=\"text-align: right;\"> 7</td><td style=\"text-align: right;\">317.302</td><td style=\"text-align: right;\">2.77515</td><td style=\"text-align: right;\">282.279</td><td style=\"text-align: right;\">0.000112898</td><td style=\"text-align: right;\">  5</td><td style=\"text-align: right;\">0.000434729</td><td style=\"text-align: right;\">1.54007 </td><td style=\"text-align: right;\">9.62011e+06</td></tr>\n",
       "</tbody>\n",
       "</table>"
      ],
      "text/plain": [
       "<IPython.core.display.HTML object>"
      ]
     },
     "metadata": {},
     "output_type": "display_data"
    }
   ],
   "source": [
    "from ShowDF import *\n",
    "ShowDF(K) #there's a weird bug"
   ]
  },
  {
   "cell_type": "code",
   "execution_count": 10,
   "id": "100a51bf",
   "metadata": {
    "ExecuteTime": {
     "end_time": "2023-08-24T14:17:49.516833Z",
     "start_time": "2023-08-24T14:17:05.921022Z"
    }
   },
   "outputs": [],
   "source": [
    "from ModulesK_Nearst import *\n",
    "Features=ModulesK_Nearst(Signals=AllSpectrum,Kernel=K,SafetyFactor=4)"
   ]
  },
  {
   "cell_type": "code",
   "execution_count": 11,
   "id": "2bf20398",
   "metadata": {
    "ExecuteTime": {
     "end_time": "2023-08-24T14:17:54.293677Z",
     "start_time": "2023-08-24T14:17:54.279396Z"
    }
   },
   "outputs": [],
   "source": [
    "from SummaryClusters import *\n",
    "Fe=SummaryClusters(Signals=AllSpectrum,Modules=Features)"
   ]
  },
  {
   "cell_type": "code",
   "execution_count": 12,
   "id": "bf7eb54d",
   "metadata": {
    "ExecuteTime": {
     "end_time": "2023-08-24T14:17:58.141791Z",
     "start_time": "2023-08-24T14:17:58.135138Z"
    }
   },
   "outputs": [
    {
     "data": {
      "text/html": [
       "<table>\n",
       "<thead>\n",
       "<tr><th style=\"text-align: right;\">  </th><th style=\"text-align: right;\">      0</th><th style=\"text-align: right;\">       1</th><th style=\"text-align: right;\">      2</th><th style=\"text-align: right;\">           3</th><th style=\"text-align: right;\">  4</th><th style=\"text-align: right;\">          5</th><th style=\"text-align: right;\">           6</th><th style=\"text-align: right;\">          7</th><th style=\"text-align: right;\">           8</th><th style=\"text-align: right;\">       9</th></tr>\n",
       "</thead>\n",
       "<tbody>\n",
       "<tr><td style=\"text-align: right;\"> 0</td><td style=\"text-align: right;\">177.79 </td><td style=\"text-align: right;\"> 1.38652</td><td style=\"text-align: right;\">259.058</td><td style=\"text-align: right;\"> 5.0648e-05 </td><td style=\"text-align: right;\"> 17</td><td style=\"text-align: right;\">3.58787e-05</td><td style=\"text-align: right;\">   0.138497 </td><td style=\"text-align: right;\">4.16695e+07</td><td style=\"text-align: right;\">-324146     </td><td style=\"text-align: right;\">0.834435</td></tr>\n",
       "<tr><td style=\"text-align: right;\"> 1</td><td style=\"text-align: right;\">204.316</td><td style=\"text-align: right;\"> 2.15488</td><td style=\"text-align: right;\">259.084</td><td style=\"text-align: right;\"> 5.17791e-05</td><td style=\"text-align: right;\"> 28</td><td style=\"text-align: right;\">2.71121e-05</td><td style=\"text-align: right;\">   0.104646 </td><td style=\"text-align: right;\">1.08294e+08</td><td style=\"text-align: right;\">-184253     </td><td style=\"text-align: right;\">0.777531</td></tr>\n",
       "<tr><td style=\"text-align: right;\"> 2</td><td style=\"text-align: right;\">138.981</td><td style=\"text-align: right;\"> 2.2784 </td><td style=\"text-align: right;\">264.196</td><td style=\"text-align: right;\"> 5.35729e-05</td><td style=\"text-align: right;\"> 23</td><td style=\"text-align: right;\">3.14875e-05</td><td style=\"text-align: right;\">   0.119183 </td><td style=\"text-align: right;\">8.14288e+07</td><td style=\"text-align: right;\"> -84647.4   </td><td style=\"text-align: right;\">0.616023</td></tr>\n",
       "<tr><td style=\"text-align: right;\"> 3</td><td style=\"text-align: right;\">141.505</td><td style=\"text-align: right;\"> 2.60276</td><td style=\"text-align: right;\">268.19 </td><td style=\"text-align: right;\"> 5.69897e-05</td><td style=\"text-align: right;\"> 39</td><td style=\"text-align: right;\">2.47447e-05</td><td style=\"text-align: right;\">   0.0922656</td><td style=\"text-align: right;\">2.74828e+08</td><td style=\"text-align: right;\">-160023     </td><td style=\"text-align: right;\">0.615335</td></tr>\n",
       "<tr><td style=\"text-align: right;\"> 4</td><td style=\"text-align: right;\">206.25 </td><td style=\"text-align: right;\">47.5922 </td><td style=\"text-align: right;\">277.985</td><td style=\"text-align: right;\">13.9344     </td><td style=\"text-align: right;\">204</td><td style=\"text-align: right;\">2.53683    </td><td style=\"text-align: right;\">9125.78     </td><td style=\"text-align: right;\">3.98176e+08</td><td style=\"text-align: right;\">    -29.7553</td><td style=\"text-align: right;\">0.146966</td></tr>\n",
       "<tr><td style=\"text-align: right;\"> 5</td><td style=\"text-align: right;\">167.212</td><td style=\"text-align: right;\"> 2.69064</td><td style=\"text-align: right;\">278.211</td><td style=\"text-align: right;\"> 6.11688e-05</td><td style=\"text-align: right;\"> 40</td><td style=\"text-align: right;\">2.619e-05  </td><td style=\"text-align: right;\">   0.094137 </td><td style=\"text-align: right;\">2.04331e+08</td><td style=\"text-align: right;\">-115789     </td><td style=\"text-align: right;\">0.655612</td></tr>\n",
       "<tr><td style=\"text-align: right;\"> 6</td><td style=\"text-align: right;\">315.622</td><td style=\"text-align: right;\"> 1.97519</td><td style=\"text-align: right;\">282.279</td><td style=\"text-align: right;\"> 0.000102604</td><td style=\"text-align: right;\"> 24</td><td style=\"text-align: right;\">5.87965e-05</td><td style=\"text-align: right;\">   0.208292 </td><td style=\"text-align: right;\">7.19316e+07</td><td style=\"text-align: right;\"> -89326.6   </td><td style=\"text-align: right;\">0.544647</td></tr>\n",
       "<tr><td style=\"text-align: right;\"> 7</td><td style=\"text-align: right;\">197.348</td><td style=\"text-align: right;\"> 1.7078 </td><td style=\"text-align: right;\">284.961</td><td style=\"text-align: right;\"> 5.70415e-05</td><td style=\"text-align: right;\"> 22</td><td style=\"text-align: right;\">3.4433e-05 </td><td style=\"text-align: right;\">   0.120834 </td><td style=\"text-align: right;\">7.43203e+07</td><td style=\"text-align: right;\">-321472     </td><td style=\"text-align: right;\">0.837416</td></tr>\n",
       "<tr><td style=\"text-align: right;\"> 8</td><td style=\"text-align: right;\">197.456</td><td style=\"text-align: right;\"> 1.75915</td><td style=\"text-align: right;\">286.958</td><td style=\"text-align: right;\"> 5.8089e-05 </td><td style=\"text-align: right;\"> 22</td><td style=\"text-align: right;\">3.50653e-05</td><td style=\"text-align: right;\">   0.122197 </td><td style=\"text-align: right;\">7.16257e+07</td><td style=\"text-align: right;\">-229854     </td><td style=\"text-align: right;\">0.789561</td></tr>\n",
       "</tbody>\n",
       "</table>"
      ],
      "text/plain": [
       "<IPython.core.display.HTML object>"
      ]
     },
     "metadata": {},
     "output_type": "display_data"
    }
   ],
   "source": [
    "ShowDF(Fe)"
   ]
  }
 ],
 "metadata": {
  "kernelspec": {
   "display_name": "Python 3 (ipykernel)",
   "language": "python",
   "name": "python3"
  },
  "language_info": {
   "codemirror_mode": {
    "name": "ipython",
    "version": 3
   },
   "file_extension": ".py",
   "mimetype": "text/x-python",
   "name": "python",
   "nbconvert_exporter": "python",
   "pygments_lexer": "ipython3",
   "version": "3.7.13"
  }
 },
 "nbformat": 4,
 "nbformat_minor": 5
}
