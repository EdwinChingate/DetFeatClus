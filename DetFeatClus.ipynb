{
 "cells": [
  {
   "cell_type": "code",
   "execution_count": 1,
   "id": "02704c40",
   "metadata": {
    "ExecuteTime": {
     "end_time": "2023-08-23T01:43:29.293838Z",
     "start_time": "2023-08-23T01:43:19.976832Z"
    }
   },
   "outputs": [],
   "source": [
    "from pyopenms import *\n",
    "import sys\n",
    "import os\n",
    "home=os.getcwd()\n",
    "sys.path.append(home+'/Functions')\n",
    "from ChargeDataSet import *\n",
    "import matplotlib.pyplot as plt\n",
    "import gc\n",
    "from WalkSpectrum import *\n",
    "from SampleSpectrum import *"
   ]
  },
  {
   "cell_type": "code",
   "execution_count": 2,
   "id": "02217eb2",
   "metadata": {
    "ExecuteTime": {
     "end_time": "2023-08-23T01:43:29.349135Z",
     "start_time": "2023-08-23T01:43:29.323810Z"
    }
   },
   "outputs": [],
   "source": [
    "DataSetName='12111.mzML'"
   ]
  },
  {
   "cell_type": "code",
   "execution_count": 3,
   "id": "b9af4d21",
   "metadata": {
    "ExecuteTime": {
     "end_time": "2023-08-23T01:43:55.835168Z",
     "start_time": "2023-08-23T01:43:29.390646Z"
    }
   },
   "outputs": [],
   "source": [
    "DataSet=ChargeDataSet(DataSetName)"
   ]
  },
  {
   "cell_type": "code",
   "execution_count": 13,
   "id": "5459344e",
   "metadata": {
    "ExecuteTime": {
     "end_time": "2023-08-23T01:45:32.700596Z",
     "start_time": "2023-08-23T01:45:32.469597Z"
    }
   },
   "outputs": [
    {
     "name": "stdout",
     "output_type": "stream",
     "text": [
      "(2898, 3)\n",
      "(579, 3)\n"
     ]
    }
   ],
   "source": [
    "c=0\n",
    "min_RT=0\n",
    "max_RT=3000\n",
    "firstSpectra=True\n",
    "MSLevel=1\n",
    "minInt=1e6\n",
    "min_mz=150\n",
    "max_mz=250\n",
    "AllSpectrum=WalkSpectrum(DataSet=DataSet,MSLevel=MSLevel,min_RT=min_RT,max_RT=max_RT,minInt=minInt,min_mz=min_mz,max_mz=max_mz)\n",
    "sampleSpectrum=SampleSpectrum(AllSpectrum,fraction=20)\n",
    "print(np.shape(AllSpectrum))\n",
    "print(np.shape(sampleSpectrum))"
   ]
  },
  {
   "cell_type": "code",
   "execution_count": 14,
   "id": "f3f9ea0a",
   "metadata": {
    "ExecuteTime": {
     "end_time": "2023-08-23T01:45:48.164197Z",
     "start_time": "2023-08-23T01:45:34.106734Z"
    },
    "scrolled": true
   },
   "outputs": [],
   "source": [
    "from AdjacencyMatGen import *\n",
    "from MaxIntCentroids import *\n",
    "Mat=AdjacencyMatGen(sampleSpectrum,mz_Tol=5e-5,RT_Tol=3)\n",
    "Cent=MaxIntCentroids(Spectrum=sampleSpectrum.copy(),AdjacencyMatrix=Mat.copy(),KernelIDs=[],features=0,FeaturesNumber=500,MinSignals=3,MinIntKernel=3e6,MaxDeep=3)"
   ]
  },
  {
   "cell_type": "code",
   "execution_count": 15,
   "id": "458f7d9d",
   "metadata": {
    "ExecuteTime": {
     "end_time": "2023-08-23T01:45:48.171745Z",
     "start_time": "2023-08-23T01:45:48.166123Z"
    }
   },
   "outputs": [
    {
     "data": {
      "text/plain": [
       "27"
      ]
     },
     "execution_count": 15,
     "metadata": {},
     "output_type": "execute_result"
    }
   ],
   "source": [
    "len(Cent)"
   ]
  }
 ],
 "metadata": {
  "kernelspec": {
   "display_name": "Python 3 (ipykernel)",
   "language": "python",
   "name": "python3"
  },
  "language_info": {
   "codemirror_mode": {
    "name": "ipython",
    "version": 3
   },
   "file_extension": ".py",
   "mimetype": "text/x-python",
   "name": "python",
   "nbconvert_exporter": "python",
   "pygments_lexer": "ipython3",
   "version": "3.7.13"
  }
 },
 "nbformat": 4,
 "nbformat_minor": 5
}
